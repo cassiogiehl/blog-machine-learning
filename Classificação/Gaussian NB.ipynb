{
  "nbformat": 4,
  "nbformat_minor": 0,
  "metadata": {
    "colab": {
      "name": "classificacao-validacao",
      "version": "0.3.2",
      "provenance": [],
      "collapsed_sections": []
    },
    "kernelspec": {
      "name": "python3",
      "display_name": "Python 3"
    }
  },
  "cells": [
    {
      "cell_type": "code",
      "metadata": {
        "id": "fXIcEmvzTOS0",
        "colab_type": "code",
        "colab": {}
      },
      "source": [
        "from sklearn.datasets import load_iris"
      ],
      "execution_count": 0,
      "outputs": []
    },
    {
      "cell_type": "code",
      "metadata": {
        "id": "XicivAHETgna",
        "colab_type": "code",
        "colab": {}
      },
      "source": [
        "# Importando a base de dados Íris\n",
        "df = load_iris()\n",
        "\n",
        "# Definindo atributos que vão ser utilizados como previsores\n",
        "previsores = df.data\n",
        "\n",
        "# Definindo os atributos de classe\n",
        "classificadores = df.target"
      ],
      "execution_count": 0,
      "outputs": []
    },
    {
      "cell_type": "code",
      "metadata": {
        "id": "Fo8bWnCZUmov",
        "colab_type": "code",
        "colab": {}
      },
      "source": [
        "# Importando biblioteca que separa os dados de treino e teste\n",
        "from sklearn.model_selection import train_test_split\n",
        "\n",
        "# Definindo variáveis de treino e teste. Definindo tamanho do teste e seleção randômica de atributos.\n",
        "X_treino, X_teste, y_treino, y_teste = train_test_split(\n",
        "    previsores, classificadores, test_size=0.30, random_state=42)"
      ],
      "execution_count": 0,
      "outputs": []
    },
    {
      "cell_type": "code",
      "metadata": {
        "id": "GOXYUCDdYCr-",
        "colab_type": "code",
        "colab": {
          "base_uri": "https://localhost:8080/",
          "height": 51
        },
        "outputId": "4ba396a7-ebe4-4ec1-d462-e3034b892395"
      },
      "source": [
        "# Importando biblioteca que fará a predição dos atributos\n",
        "from sklearn.naive_bayes import GaussianNB\n",
        "\n",
        "# Instanciando o objeto da classe na variável\n",
        "clf = GaussianNB()\n",
        "\n",
        "# Aqui são passados os dados de treinamento (amostra de 70%) para que o algoritmo possa fazer a \n",
        "# aprendizagem e perceber os padrões no dataset\n",
        "clf = clf.fit(X_treino, y_treino)\n",
        "\n",
        "# Após o treinamento, colocamos em prática os dados de teste (amostra de 30%) \n",
        "# para que o algoritmo nos retorne os resultados que previu\n",
        "print(clf.predict(X_teste))"
      ],
      "execution_count": 66,
      "outputs": [
        {
          "output_type": "stream",
          "text": [
            "[1 0 2 1 1 0 1 2 1 1 2 0 0 0 0 2 2 1 1 2 0 2 0 2 2 2 2 2 0 0 0 0 1 0 0 2 1\n",
            " 0 0 0 2 1 1 0 0]\n"
          ],
          "name": "stdout"
        }
      ]
    },
    {
      "cell_type": "code",
      "metadata": {
        "id": "AvTG8MwWefiX",
        "colab_type": "code",
        "colab": {
          "base_uri": "https://localhost:8080/",
          "height": 51
        },
        "outputId": "52c995b9-526d-4f2c-ef9c-69528ddd5de2"
      },
      "source": [
        "# Além de treinar o modelo, podemos validar sua acurácia\n",
        "\n",
        "# Importando biblioteca que fará a verificação da acurácia\n",
        "from sklearn.model_selection import cross_val_score\n",
        "\n",
        "# Distribuindo os dados em 5 partes iguais\n",
        "# Cada parte será usada como teste, uma por vez, fazendo o treinamento das restantes\n",
        "acur = cross_val_score(clf, previsores, classificadores, cv=5)\n",
        "print(\"Acuracidade de cada item: {}\".format(acur))\n",
        "\n",
        "# Calculando a média da acurácia do modelo\n",
        "mean_acur = sum(acur) / len(acur)\n",
        "print(\"Média de acuracidade: {}\".format(mean_acur))"
      ],
      "execution_count": 70,
      "outputs": [
        {
          "output_type": "stream",
          "text": [
            "Acuracidade de cada item: [0.93333333 0.96666667 0.93333333 0.93333333 1.        ]\n",
            "Média de acuracidade: 0.9533333333333334\n"
          ],
          "name": "stdout"
        }
      ]
    }
  ]
}