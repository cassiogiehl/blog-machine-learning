{
  "nbformat": 4,
  "nbformat_minor": 0,
  "metadata": {
    "colab": {
      "name": "risco-credito",
      "version": "0.3.2",
      "provenance": [],
      "collapsed_sections": []
    },
    "kernelspec": {
      "name": "python3",
      "display_name": "Python 3"
    }
  },
  "cells": [
    {
      "cell_type": "code",
      "metadata": {
        "id": "IklxFekuDfiX",
        "colab_type": "code",
        "colab": {}
      },
      "source": [
        "import pandas as pd"
      ],
      "execution_count": 0,
      "outputs": []
    },
    {
      "cell_type": "code",
      "metadata": {
        "id": "PsPZtQK2DnbO",
        "colab_type": "code",
        "colab": {}
      },
      "source": [
        "df = pd.read_csv('risco_credito.csv')\n",
        "previsores = df.iloc[:, 0:4].values\n",
        "classe = df.iloc[:, 4].values"
      ],
      "execution_count": 0,
      "outputs": []
    },
    {
      "cell_type": "code",
      "metadata": {
        "id": "tAPCDCGYEri3",
        "colab_type": "code",
        "colab": {}
      },
      "source": [
        "from sklearn.preprocessing import LabelEncoder\n",
        "\n",
        "label_encoder = LabelEncoder()\n",
        "previsores[:, 0] = label_encoder.fit_transform(previsores[:, 0])\n",
        "previsores[:, 1] = label_encoder.fit_transform(previsores[:, 1])\n",
        "previsores[:, 2] = label_encoder.fit_transform(previsores[:, 2])\n",
        "previsores[:, 3] = label_encoder.fit_transform(previsores[:, 3])"
      ],
      "execution_count": 0,
      "outputs": []
    },
    {
      "cell_type": "code",
      "metadata": {
        "id": "5JM5o3wKD4D-",
        "colab_type": "code",
        "outputId": "27d81b6f-641c-4ebb-b5cf-dca29e0ba8b0",
        "colab": {
          "base_uri": "https://localhost:8080/",
          "height": 34
        }
      },
      "source": [
        "from sklearn.tree import DecisionTreeClassifier\n",
        "\n",
        "classificador = DecisionTreeClassifier(criterion='entropy')\n",
        "classificador.fit(previsores, classe)\n",
        "print(classificador.predict([[0,0,1,2], [3,0,0,0]]))"
      ],
      "execution_count": 16,
      "outputs": [
        {
          "output_type": "stream",
          "text": [
            "['baixo' 'alto']\n"
          ],
          "name": "stdout"
        }
      ]
    }
  ]
}